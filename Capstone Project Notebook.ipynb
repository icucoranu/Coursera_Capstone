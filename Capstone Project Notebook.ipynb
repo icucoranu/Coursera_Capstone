{
    "cells": [
        {
            "metadata": {
                "collapsed": true
            },
            "cell_type": "markdown",
            "source": "# My Jupyter Notebook on IBM Data Science Experience"
        },
        {
            "metadata": {},
            "cell_type": "markdown",
            "source": "**Ioan**\n\nPhysician Informatician"
        },
        {
            "metadata": {},
            "cell_type": "markdown",
            "source": "*My interest in data science is direclty related to my occupatian. As a physician specialized in Clinical Informatics I need to be able to leverage data from our clinical information systems*"
        },
        {
            "metadata": {},
            "cell_type": "markdown",
            "source": "### My code in the cell below is one of the simplest math operation"
        },
        {
            "metadata": {},
            "cell_type": "code",
            "source": "1+1",
            "execution_count": 4,
            "outputs": [
                {
                    "output_type": "execute_result",
                    "execution_count": 4,
                    "data": {
                        "text/plain": "2"
                    },
                    "metadata": {}
                }
            ]
        },
        {
            "metadata": {},
            "cell_type": "markdown",
            "source": "### 1. bulletted list\n\n* item 1\n* item 2\n* item 3\n\n### 2. numbered list\n1. First item\n2. Second item\n3. Third item\n\n\n~~This last text statement needed to be scrathed~~"
        }
    ],
    "metadata": {
        "kernelspec": {
            "name": "python3",
            "display_name": "Python 3.6",
            "language": "python"
        },
        "language_info": {
            "name": "python",
            "version": "3.6.8",
            "mimetype": "text/x-python",
            "codemirror_mode": {
                "name": "ipython",
                "version": 3
            },
            "pygments_lexer": "ipython3",
            "nbconvert_exporter": "python",
            "file_extension": ".py"
        }
    },
    "nbformat": 4,
    "nbformat_minor": 1
}