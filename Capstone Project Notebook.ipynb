{
    "cells": [
        {
            "cell_type": "markdown",
            "metadata": {
                "collapsed": true
            },
            "source": "# My Jupyter Notebook on IBM Data Science Experience"
        },
        {
            "cell_type": "markdown",
            "metadata": {},
            "source": "**Ioan Cucoranu**\nPhysician Informatician"
        },
        {
            "cell_type": "markdown",
            "metadata": {},
            "source": "*My interest in data science is direclty related to my occupatian. As a physician specialized in Clinical Informatics I need to be able to leverage data from our clinical information systems*"
        },
        {
            "cell_type": "markdown",
            "metadata": {},
            "source": "##### My code in the cell below is one of the simplest math operation"
        },
        {
            "cell_type": "code",
            "execution_count": 1,
            "metadata": {},
            "outputs": [
                {
                    "data": {
                        "text/plain": "2"
                    },
                    "execution_count": 1,
                    "metadata": {},
                    "output_type": "execute_result"
                }
            ],
            "source": "1+1"
        },
        {
            "cell_type": "markdown",
            "metadata": {},
            "source": "### 1. bulletted list\n\n* item 1\n* item 2\n* item 3\n\n### 2. numbered list\n1. First item\n2. Second item\n3. Third item\n\n\n~~This last text statement needed to be scrathed~~"
        }
    ],
    "metadata": {
        "kernelspec": {
            "display_name": "Python 3.6",
            "language": "python",
            "name": "python3"
        },
        "language_info": {
            "codemirror_mode": {
                "name": "ipython",
                "version": 3
            },
            "file_extension": ".py",
            "mimetype": "text/x-python",
            "name": "python",
            "nbconvert_exporter": "python",
            "pygments_lexer": "ipython3",
            "version": "3.6.8"
        }
    },
    "nbformat": 4,
    "nbformat_minor": 1
}